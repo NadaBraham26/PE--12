{
 "cells": [
  {
   "cell_type": "code",
   "execution_count": 4,
   "id": "5322e55c",
   "metadata": {},
   "outputs": [],
   "source": [
    "import yfinance as yf\n",
    "import pandas as pd\n",
    "import numpy as np\n",
    "from tensorflow.keras.utils import to_categorical\n",
    "import matplotlib.pyplot as plt"
   ]
  },
  {
   "cell_type": "code",
   "execution_count": 5,
   "id": "3bf14295",
   "metadata": {},
   "outputs": [],
   "source": [
    "stock_symbol_list = [\n",
    "    \"KO\", \"PEP\", \"MDLZ\", \"TSN\", \"ADM\",  # Agroalimentaire\n",
    "    \"MET\", \"PRU\", \"AFL\", \"AIG\", \"ALL\",  # Assurance\n",
    "    \"DIS\", \"NFLX\", \"CMCSA\", \"LYV\", \"FOXA\",  # Divertissement\n",
    "    \"WMT\", \"AMZN\", \"TGT\", \"COST\", \"HD\",  # Distribution\n",
    "    \"XOM\", \"CVX\",  \"BP\",  # Énergie\n",
    "    \"AAPL\", \"MSFT\", \"GOOGL\", \"NVDA\", \"TSLA\",  # Technologie\n",
    "    \"PFE\", \"MRK\", \"GSK\", \"NVS\", \"ABBV\",  # Pharmaceutique\n",
    "    \"MMM\", \"HON\", \"GE\", \"CAT\", \"BA\",  # Industriel\n",
    "    \"NKE\", \"LULU\", \"PVH\", \"GPS\", \"FL\",  # Mode\n",
    "    \"NKE\", \"UAA\", \"ADDYY\", \"DIS\", \"DKNG\",  # Sport\n",
    "    \"T\", \"VZ\", \"TMUS\",   # Télécommunication\n",
    "    \"CRM\", \"BABA\", \"SQ\", \"PYPL\", \"MELI\"  # Businnes\n",
    "]\n"
   ]
  },
  {
   "cell_type": "code",
   "execution_count": 6,
   "id": "87617eac",
   "metadata": {},
   "outputs": [
    {
     "ename": "NameError",
     "evalue": "name 'stock_data_list' is not defined",
     "output_type": "error",
     "traceback": [
      "\u001b[1;31m---------------------------------------------------------------------------\u001b[0m",
      "\u001b[1;31mNameError\u001b[0m                                 Traceback (most recent call last)",
      "Cell \u001b[1;32mIn[6], line 1\u001b[0m\n\u001b[1;32m----> 1\u001b[0m \u001b[38;5;28;01mfor\u001b[39;00m L \u001b[38;5;129;01min\u001b[39;00m stock_data_list:\n\u001b[0;32m      2\u001b[0m     \n\u001b[0;32m      3\u001b[0m     \u001b[38;5;66;03m#Compare avec la veille\u001b[39;00m\n\u001b[0;32m      4\u001b[0m     L[\u001b[38;5;124m'\u001b[39m\u001b[38;5;124mTarget\u001b[39m\u001b[38;5;124m'\u001b[39m] \u001b[38;5;241m=\u001b[39m np\u001b[38;5;241m.\u001b[39mlog(L[\u001b[38;5;124m'\u001b[39m\u001b[38;5;124mClose\u001b[39m\u001b[38;5;124m'\u001b[39m] \u001b[38;5;241m/\u001b[39m L[\u001b[38;5;124m'\u001b[39m\u001b[38;5;124mClose\u001b[39m\u001b[38;5;124m'\u001b[39m]\u001b[38;5;241m.\u001b[39mshift(\u001b[38;5;241m-\u001b[39m\u001b[38;5;241m1\u001b[39m)) \u001b[38;5;241m*\u001b[39m \u001b[38;5;241m100\u001b[39m \u001b[38;5;66;03m#Rendement futur\u001b[39;00m\n\u001b[0;32m      6\u001b[0m     \u001b[38;5;66;03m# Calcul des quantiles\u001b[39;00m\n",
      "\u001b[1;31mNameError\u001b[0m: name 'stock_data_list' is not defined"
     ]
    }
   ],
   "source": [
    "for L in stock_data_list:\n",
    "    \n",
    "    #Compare avec la veille\n",
    "    L['Target'] = np.log(L['Close'] / L['Close'].shift(-1)) * 100 #Rendement futur\n",
    "    \n",
    "    # Calcul des quantiles\n",
    "    quantile_20 = L['Target'].quantile(0.2)\n",
    "    quantile_80 = L['Target'].quantile(0.8)\n",
    "\n",
    "\n",
    "    \n",
    "    conditions = [\n",
    "        (L['Target'] > quantile_80 ),\n",
    "        (L['Target'] <  quantile_20 ),\n",
    "    ]\n",
    "    \n",
    "    # Définition des valeurs correspondantes\n",
    "    values = [1, -1]\n",
    "    \n",
    "    L['Target'] = np.select(conditions, values, default=0)\n",
    "    "
   ]
  },
  {
   "cell_type": "code",
   "execution_count": null,
   "id": "a8bfc45f",
   "metadata": {},
   "outputs": [],
   "source": [
    "combined_data = pd.concat(stock_data_list)\n",
    "print(combined_data)"
   ]
  },
  {
   "cell_type": "code",
   "execution_count": null,
   "id": "29d03b90",
   "metadata": {},
   "outputs": [],
   "source": [
    "import pandas as pd\n",
    "import numpy as np\n",
    "from sklearn.ensemble import RandomForestClassifier\n",
    "from sklearn.metrics import precision_score\n",
    "from sklearn.preprocessing import StandardScaler\n",
    "import matplotlib.pyplot as plt\n",
    "from sklearn.utils import resample"
   ]
  },
  {
   "cell_type": "code",
   "execution_count": null,
   "id": "09cdb000",
   "metadata": {},
   "outputs": [],
   "source": [
    "from sklearn.ensemble import RandomForestClassifier#peut détecter les non linearités entre les parametres\n",
    "#random traine un groupe d'arbre de décision individuels avce des paramétres randoms puis faire la moyenne de ces resulats \n",
    "model=RandomForestClassifier(n_estimators=100,min_samples_split=100,random_state=1)\n",
    "#n estimators le nombre de decisions individuels que nous voulons trainer si ce nombre augement la precision est plus elevé\n",
    "#min samples split pour definir la repartition minimale de l'echantillon higher the less accurate\n",
    "# random state signifie si on exécute le modéle deux fois les nombres généres seront dans une séquence prévisible si on tourne le code deux fois on aura les memes resulats\n",
    "# separer nos donnes en deux données d'entrainement et données de test\n",
    "train = combined_data.iloc[:-100].copy()\n",
    "test = combined_data.iloc[-100:].copy()\n",
    "\n",
    "# Handle class imbalance with resampling\n",
    "train_majority = train[train.Target == 0]\n",
    "train_minority_pos = train[train.Target == 1]\n",
    "train_minority_neg = train[train.Target == -1]\n",
    "\n",
    "train_minority_pos_upsampled = resample(train_minority_pos,\n",
    "                                        replace=True,     # sample with replacement\n",
    "                                        n_samples=len(train_majority),    # to match majority class\n",
    "                                        random_state=123) # reproducible results\n",
    "\n",
    "train_minority_neg_upsampled = resample(train_minority_neg,\n",
    "                                        replace=True,     # sample with replacement\n",
    "                                        n_samples=len(train_majority),    # to match majority class\n",
    "                                        random_state=123) # reproducible results\n",
    "\n",
    "train_upsampled = pd.concat([train_majority, train_minority_pos_upsampled, train_minority_neg_upsampled])\n",
    "\n",
    "# Normalize the data\n",
    "scaler = StandardScaler()\n",
    "train_upsampled.loc[:, predictors] = scaler.fit_transform(train_upsampled[predictors])\n",
    "test.loc[:, predictors] = scaler.transform(test[predictors])\n",
    "\n",
    "# Define and train the model\n",
    "model = RandomForestClassifier(n_estimators=100, min_samples_split=100, random_state=1)\n",
    "model.fit(train_upsampled[predictors], train_upsampled[\"Target\"])\n",
    "\n",
    "# Predict results on the test data\n",
    "preds = model.predict(test[predictors])\n",
    "\n",
    "# Calculate model precision\n",
    "precision = precision_score(test[\"Target\"], preds, average='macro', zero_division=0)\n",
    "print(f\"Précision du modèle : {precision}\")\n",
    "\n",
    "# Convert predictions to a Pandas Series for easy manipulation\n",
    "preds = pd.Series(preds, index=test.index)\n",
    "\n",
    "# Combine predictions and actual values for comparison\n",
    "combined = pd.concat([test[\"Target\"], preds], axis=1)\n",
    "combined.columns = ['Actual', 'Predicted']\n",
    "\n",
    "# Display results\n",
    "plt.figure(figsize=(14, 7))\n",
    "plt.plot(combined.index, combined['Actual'], label='Actual', color='blue')\n",
    "plt.plot(combined.index, combined['Predicted'], label='Predicted', color='orange', linestyle='--')\n",
    "plt.xlabel(\"Date\")\n",
    "plt.ylabel(\"Value\")\n",
    "plt.title(\"Actual vs Predicted Values\")\n",
    "plt.legend()\n",
    "plt.show()"
   ]
  },
  {
   "cell_type": "code",
   "execution_count": null,
   "id": "2e3c4139",
   "metadata": {},
   "outputs": [],
   "source": []
  },
  {
   "cell_type": "code",
   "execution_count": null,
   "id": "58c57e87",
   "metadata": {},
   "outputs": [],
   "source": []
  },
  {
   "cell_type": "code",
   "execution_count": null,
   "id": "0068b475",
   "metadata": {},
   "outputs": [],
   "source": []
  }
 ],
 "metadata": {
  "kernelspec": {
   "display_name": "Python 3 (ipykernel)",
   "language": "python",
   "name": "python3"
  },
  "language_info": {
   "codemirror_mode": {
    "name": "ipython",
    "version": 3
   },
   "file_extension": ".py",
   "mimetype": "text/x-python",
   "name": "python",
   "nbconvert_exporter": "python",
   "pygments_lexer": "ipython3",
   "version": "3.11.4"
  }
 },
 "nbformat": 4,
 "nbformat_minor": 5
}
